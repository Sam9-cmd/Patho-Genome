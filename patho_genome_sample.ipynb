{
  "nbformat": 4,
  "nbformat_minor": 0,
  "metadata": {
    "colab": {
      "provenance": [],
      "gpuType": "T4",
      "machine_shape": "hm"
    },
    "kernelspec": {
      "name": "python3",
      "display_name": "Python 3"
    },
    "language_info": {
      "name": "python"
    },
    "accelerator": "GPU"
  },
  "cells": [
    {
      "cell_type": "code",
      "source": [
        "pip install Bio"
      ],
      "metadata": {
        "id": "EIHKjHwoJ9cJ"
      },
      "execution_count": null,
      "outputs": []
    },
    {
      "cell_type": "code",
      "source": [
        "from Bio import SeqIO\n",
        "import os\n",
        "from google.colab import drive\n",
        "drive.mount('/content/drive')\n",
        "\n",
        "base_directory = '/content/drive/MyDrive/patho-genome-data'"
      ],
      "metadata": {
        "colab": {
          "base_uri": "https://localhost:8080/"
        },
        "id": "iAjq0PLgJuT6",
        "outputId": "f9c2fad2-2e83-4b53-90a2-3d0d7f7ac36d"
      },
      "execution_count": null,
      "outputs": [
        {
          "output_type": "stream",
          "name": "stdout",
          "text": [
            "Drive already mounted at /content/drive; to attempt to forcibly remount, call drive.mount(\"/content/drive\", force_remount=True).\n"
          ]
        }
      ]
    },
    {
      "cell_type": "code",
      "source": [
        "import gzip\n",
        "import shutil"
      ],
      "metadata": {
        "id": "iBxN3WT4LsNp"
      },
      "execution_count": null,
      "outputs": []
    },
    {
      "cell_type": "code",
      "source": [
        "fasta_files = [\n",
        "    'nonpathogenic_train.fasta',\n",
        "    'nonpathogenic_val.fasta',\n",
        "    'nonpathogenic_test_1.fasta',\n",
        "    'nonpathogenic_test_2.fasta',\n",
        "    'pathogenic_train.fasta',\n",
        "    'pathogenic_val.fasta',\n",
        "    'pathogenic_test_1.fasta',\n",
        "    'pathogenic_test_2.fasta'\n",
        "]\n"
      ],
      "metadata": {
        "id": "_n_T7wO8KkMK"
      },
      "execution_count": null,
      "outputs": []
    },
    {
      "cell_type": "code",
      "source": [
        "def read_fasta(file_path):\n",
        "    sequences = []\n",
        "    with open(file_path, \"r\") as handle:\n",
        "        for record in SeqIO.parse(handle, \"fasta\"):\n",
        "            sequences.append(str(record.seq))\n",
        "    return sequences"
      ],
      "metadata": {
        "id": "EX2t9dLwQZOn"
      },
      "execution_count": null,
      "outputs": []
    },
    {
      "cell_type": "code",
      "source": [
        "print(f\"Listing files in {base_directory}:\")\n",
        "print(os.listdir(base_directory))"
      ],
      "metadata": {
        "colab": {
          "base_uri": "https://localhost:8080/"
        },
        "id": "edIaFCUxQbl4",
        "outputId": "1beba72a-88c2-4d5d-da6d-ac49f44ba41f"
      },
      "execution_count": null,
      "outputs": [
        {
          "output_type": "stream",
          "name": "stdout",
          "text": [
            "Listing files in /content/drive/MyDrive/patho-genome-data:\n",
            "['nonpathogenic_test_1.fasta.gz', 'nonpathogenic_test_2.fasta.gz', 'nonpathogenic_train.fasta.gz', 'nonpathogenic_train_imb.fasta.gz', 'nonpathogenic_val.fasta.gz', 'pathogenic_test_2.fasta.gz', 'pathogenic_test_1.fasta.gz', 'pathogenic_train.fasta.gz', 'pathogenic_val.fasta.gz', 'nonpathogenic_train.fasta', 'nonpathogenic_val.fasta', 'nonpathogenic_test_1.fasta', 'nonpathogenic_test_2.fasta', 'pathogenic_train.fasta', 'pathogenic_val.fasta', 'pathogenic_test_1.fasta', 'pathogenic_test_2.fasta']\n"
          ]
        }
      ]
    },
    {
      "cell_type": "code",
      "source": [
        "sequences_data = {}\n",
        "for file in fasta_files:\n",
        "    file_path = os.path.join(base_directory, file)\n",
        "    print(f\"Attempting to open: {file_path}\")\n",
        "    if os.path.exists(file_path):\n",
        "        sequences_data[file] = read_fasta(file_path)\n",
        "        print(f\"Loaded {len(sequences_data[file])} sequences from {file}\")\n",
        "    else:\n",
        "        print(f\"File not found: {file_path}\")"
      ],
      "metadata": {
        "colab": {
          "base_uri": "https://localhost:8080/"
        },
        "id": "ztekv4ZRQd5K",
        "outputId": "bdb93329-2146-4501-dc48-429b9d4b7c93"
      },
      "execution_count": null,
      "outputs": [
        {
          "output_type": "stream",
          "name": "stdout",
          "text": [
            "Attempting to open: /content/drive/MyDrive/patho-genome-data/nonpathogenic_train.fasta\n",
            "Loaded 10000024 sequences from nonpathogenic_train.fasta\n",
            "Attempting to open: /content/drive/MyDrive/patho-genome-data/nonpathogenic_val.fasta\n",
            "Loaded 1250005 sequences from nonpathogenic_val.fasta\n",
            "Attempting to open: /content/drive/MyDrive/patho-genome-data/nonpathogenic_test_1.fasta\n",
            "Loaded 625003 sequences from nonpathogenic_test_1.fasta\n",
            "Attempting to open: /content/drive/MyDrive/patho-genome-data/nonpathogenic_test_2.fasta\n",
            "Loaded 625003 sequences from nonpathogenic_test_2.fasta\n",
            "Attempting to open: /content/drive/MyDrive/patho-genome-data/pathogenic_train.fasta\n",
            "Loaded 10000151 sequences from pathogenic_train.fasta\n",
            "Attempting to open: /content/drive/MyDrive/patho-genome-data/pathogenic_val.fasta\n",
            "Loaded 1250020 sequences from pathogenic_val.fasta\n",
            "Attempting to open: /content/drive/MyDrive/patho-genome-data/pathogenic_test_1.fasta\n",
            "Loaded 625019 sequences from pathogenic_test_1.fasta\n",
            "Attempting to open: /content/drive/MyDrive/patho-genome-data/pathogenic_test_2.fasta\n",
            "Loaded 625019 sequences from pathogenic_test_2.fasta\n"
          ]
        }
      ]
    },
    {
      "cell_type": "code",
      "source": [
        "import pickle\n",
        "pickle_file_path = '/content/drive/MyDrive/patho-genome-data/sequences_data.pkl'\n",
        "\n",
        "with open(pickle_file_path, 'wb') as file:\n",
        "    pickle.dump(sequences_data, file)\n",
        "\n",
        "print(f\"Sequence data saved to {pickle_file_path}\")"
      ],
      "metadata": {
        "colab": {
          "base_uri": "https://localhost:8080/"
        },
        "id": "IaPITv7uRHwW",
        "outputId": "7aa4e1cf-6500-4951-8286-2469a4e5886f"
      },
      "execution_count": null,
      "outputs": [
        {
          "output_type": "stream",
          "name": "stdout",
          "text": [
            "Sequence data saved to /content/drive/MyDrive/patho-genome-data/sequences_data.pkl\n"
          ]
        }
      ]
    },
    {
      "cell_type": "code",
      "source": [
        "import pickle\n",
        "pickle_file_path = '/content/drive/MyDrive/patho-genome-data/sequences_data.pkl'\n",
        "with open(pickle_file_path, 'rb') as file:\n",
        "    sequences_data = pickle.load(file)\n",
        "\n",
        "print(\"Sequence data loaded from pickle file.\")"
      ],
      "metadata": {
        "colab": {
          "base_uri": "https://localhost:8080/"
        },
        "id": "tLJE0SpMRJTG",
        "outputId": "edb27b1b-ddf5-420e-9b2d-c76431825dbc"
      },
      "execution_count": null,
      "outputs": [
        {
          "output_type": "stream",
          "name": "stdout",
          "text": [
            "Sequence data loaded from pickle file.\n"
          ]
        }
      ]
    },
    {
      "cell_type": "code",
      "source": [
        "import pickle\n",
        "import random\n",
        "pickle_file_path = '/content/drive/MyDrive/patho-genome-data/sequences_data.pkl'\n",
        "with open(pickle_file_path, 'rb') as file:\n",
        "    sequences_data = pickle.load(file)\n",
        "\n",
        "sample_fraction = 0.1\n",
        "\n",
        "def sample_sequences(data, fraction):\n",
        "    sample_size = int(len(data) * fraction)\n",
        "    return random.sample(data, sample_size)\n",
        "\n",
        "sampled_sequences_data = {\n",
        "    'nonpathogenic_train': sample_sequences(sequences_data['nonpathogenic_train.fasta'], sample_fraction),\n",
        "    'nonpathogenic_val': sample_sequences(sequences_data['nonpathogenic_val.fasta'], sample_fraction),\n",
        "    'nonpathogenic_test_1': sample_sequences(sequences_data['nonpathogenic_test_1.fasta'], sample_fraction),\n",
        "    'nonpathogenic_test_2': sample_sequences(sequences_data['nonpathogenic_test_2.fasta'], sample_fraction),\n",
        "    'pathogenic_train': sample_sequences(sequences_data['pathogenic_train.fasta'], sample_fraction),\n",
        "    'pathogenic_val': sample_sequences(sequences_data['pathogenic_val.fasta'], sample_fraction),\n",
        "    'pathogenic_test_1': sample_sequences(sequences_data['pathogenic_test_1.fasta'], sample_fraction),\n",
        "    'pathogenic_test_2': sample_sequences(sequences_data['pathogenic_test_2.fasta'], sample_fraction),\n",
        "}\n",
        "\n",
        "for category, sample in sampled_sequences_data.items():\n",
        "    print(f\"{category}: {len(sample)} sequences sampled.\")"
      ],
      "metadata": {
        "colab": {
          "base_uri": "https://localhost:8080/"
        },
        "id": "lZ5J4ltYb8d8",
        "outputId": "5df856a8-bb6c-4961-ca45-b918b478b50e"
      },
      "execution_count": null,
      "outputs": [
        {
          "output_type": "stream",
          "name": "stdout",
          "text": [
            "nonpathogenic_train: 1000002 sequences sampled.\n",
            "nonpathogenic_val: 125000 sequences sampled.\n",
            "nonpathogenic_test_1: 62500 sequences sampled.\n",
            "nonpathogenic_test_2: 62500 sequences sampled.\n",
            "pathogenic_train: 1000015 sequences sampled.\n",
            "pathogenic_val: 125002 sequences sampled.\n",
            "pathogenic_test_1: 62501 sequences sampled.\n",
            "pathogenic_test_2: 62501 sequences sampled.\n"
          ]
        }
      ]
    },
    {
      "cell_type": "code",
      "source": [
        "import gc\n",
        "del sequences_data\n",
        "\n",
        "gc.collect()\n",
        "\n",
        "print(\"Original sequence data deleted from memory.\")"
      ],
      "metadata": {
        "colab": {
          "base_uri": "https://localhost:8080/"
        },
        "id": "UKdsYTEzcmEe",
        "outputId": "d992d3b1-13d6-43d3-f8d3-f248dd84a68e"
      },
      "execution_count": null,
      "outputs": [
        {
          "output_type": "stream",
          "name": "stdout",
          "text": [
            "Original sequence data deleted from memory.\n"
          ]
        }
      ]
    },
    {
      "cell_type": "code",
      "source": [
        "'''import json\n",
        "\n",
        "# Path to save the JSON file\n",
        "json_file_path = '/content/drive/MyDrive/patho-genome-data/sequences_data.json'\n",
        "\n",
        "# Save sequences_data to a JSON file\n",
        "with open(json_file_path, 'w') as file:\n",
        "    json.dump(sequences_data, file)\n",
        "\n",
        "print(f\"Sequence data saved to {json_file_path}\")"
      ],
      "metadata": {
        "colab": {
          "base_uri": "https://localhost:8080/"
        },
        "id": "uI8ZpasRRNn-",
        "outputId": "906f6065-cb40-4465-918f-d72448d50aab"
      },
      "execution_count": null,
      "outputs": [
        {
          "output_type": "stream",
          "name": "stdout",
          "text": [
            "Sequence data saved to /content/drive/MyDrive/patho-genome-data/sequences_data.json\n"
          ]
        }
      ]
    },
    {
      "cell_type": "code",
      "source": [
        "'''import json\n",
        "\n",
        "# Path to the JSON file\n",
        "json_file_path = '/content/drive/MyDrive/patho-genome-data/sequences_data.json'\n",
        "\n",
        "# Load the sequence data from the JSON file\n",
        "with open(json_file_path, 'r') as file:\n",
        "    sequences_data = json.load(file)\n",
        "\n",
        "print(\"Sequence data loaded from JSON file.\")"
      ],
      "metadata": {
        "id": "ufkKeB62RRCP"
      },
      "execution_count": null,
      "outputs": []
    },
    {
      "cell_type": "code",
      "source": [
        "'''def decompress_gz(file_path, extract_path):\n",
        "    with gzip.open(file_path, 'rb') as f_in:\n",
        "        with open(extract_path, 'wb') as f_out:\n",
        "            shutil.copyfileobj(f_in, f_out)'''"
      ],
      "metadata": {
        "id": "OlkhDhuwLwZI"
      },
      "execution_count": null,
      "outputs": []
    },
    {
      "cell_type": "code",
      "source": [
        "'''sequences_data = {}\n",
        "for file in fasta_gz_files:\n",
        "    gz_file_path = os.path.join(base_directory, file)\n",
        "    extracted_file_path = gz_file_path.replace('.gz', '')\n",
        "\n",
        "    if not os.path.exists(extracted_file_path):\n",
        "        print(f\"Decompressing {gz_file_path}...\")\n",
        "        decompress_gz(gz_file_path, extracted_file_path)\n",
        "        print(f\"Extracted to {extracted_file_path}\")\n",
        "\n",
        "    print(f\"Loading sequences from {extracted_file_path}...\")\n",
        "    sequences = []\n",
        "    with open(extracted_file_path, \"r\") as handle:\n",
        "        for record in SeqIO.parse(handle, \"fasta\"):\n",
        "            sequences.append(str(record.seq))\n",
        "    sequences_data[file] = sequences\n",
        "    print(f\"Loaded {len(sequences)} sequences from {file}\")'''"
      ],
      "metadata": {
        "colab": {
          "base_uri": "https://localhost:8080/"
        },
        "id": "8EXCVwRwLWlA",
        "outputId": "887e915c-fa1a-4894-9058-2e08fb0fdceb"
      },
      "execution_count": null,
      "outputs": [
        {
          "output_type": "stream",
          "name": "stdout",
          "text": [
            "Decompressing /content/drive/MyDrive/patho-genome-data/nonpathogenic_train.fasta.gz...\n",
            "Extracted to /content/drive/MyDrive/patho-genome-data/nonpathogenic_train.fasta\n",
            "Loading sequences from /content/drive/MyDrive/patho-genome-data/nonpathogenic_train.fasta...\n",
            "Loaded 10000024 sequences from nonpathogenic_train.fasta.gz\n",
            "Decompressing /content/drive/MyDrive/patho-genome-data/nonpathogenic_val.fasta.gz...\n",
            "Extracted to /content/drive/MyDrive/patho-genome-data/nonpathogenic_val.fasta\n",
            "Loading sequences from /content/drive/MyDrive/patho-genome-data/nonpathogenic_val.fasta...\n",
            "Loaded 1250005 sequences from nonpathogenic_val.fasta.gz\n",
            "Decompressing /content/drive/MyDrive/patho-genome-data/nonpathogenic_test_1.fasta.gz...\n",
            "Extracted to /content/drive/MyDrive/patho-genome-data/nonpathogenic_test_1.fasta\n",
            "Loading sequences from /content/drive/MyDrive/patho-genome-data/nonpathogenic_test_1.fasta...\n",
            "Loaded 625003 sequences from nonpathogenic_test_1.fasta.gz\n",
            "Decompressing /content/drive/MyDrive/patho-genome-data/nonpathogenic_test_2.fasta.gz...\n",
            "Extracted to /content/drive/MyDrive/patho-genome-data/nonpathogenic_test_2.fasta\n",
            "Loading sequences from /content/drive/MyDrive/patho-genome-data/nonpathogenic_test_2.fasta...\n",
            "Loaded 625003 sequences from nonpathogenic_test_2.fasta.gz\n",
            "Decompressing /content/drive/MyDrive/patho-genome-data/pathogenic_train.fasta.gz...\n",
            "Extracted to /content/drive/MyDrive/patho-genome-data/pathogenic_train.fasta\n",
            "Loading sequences from /content/drive/MyDrive/patho-genome-data/pathogenic_train.fasta...\n",
            "Loaded 10000151 sequences from pathogenic_train.fasta.gz\n",
            "Decompressing /content/drive/MyDrive/patho-genome-data/pathogenic_val.fasta.gz...\n",
            "Extracted to /content/drive/MyDrive/patho-genome-data/pathogenic_val.fasta\n",
            "Loading sequences from /content/drive/MyDrive/patho-genome-data/pathogenic_val.fasta...\n",
            "Loaded 1250020 sequences from pathogenic_val.fasta.gz\n",
            "Decompressing /content/drive/MyDrive/patho-genome-data/pathogenic_test_1.fasta.gz...\n",
            "Extracted to /content/drive/MyDrive/patho-genome-data/pathogenic_test_1.fasta\n",
            "Loading sequences from /content/drive/MyDrive/patho-genome-data/pathogenic_test_1.fasta...\n",
            "Loaded 625019 sequences from pathogenic_test_1.fasta.gz\n",
            "Decompressing /content/drive/MyDrive/patho-genome-data/pathogenic_test_2.fasta.gz...\n",
            "Extracted to /content/drive/MyDrive/patho-genome-data/pathogenic_test_2.fasta\n",
            "Loading sequences from /content/drive/MyDrive/patho-genome-data/pathogenic_test_2.fasta...\n",
            "Loaded 625019 sequences from pathogenic_test_2.fasta.gz\n"
          ]
        }
      ]
    },
    {
      "cell_type": "code",
      "source": [
        "for file, sequences in sequences_data.items():\n",
        "    print(f\"{file}: {len(sequences)} sequences loaded.\")"
      ],
      "metadata": {
        "colab": {
          "base_uri": "https://localhost:8080/"
        },
        "id": "zb_5f22VKn8u",
        "outputId": "019fa589-7bd6-4f80-8fbc-48ca025136d2"
      },
      "execution_count": null,
      "outputs": [
        {
          "output_type": "stream",
          "name": "stdout",
          "text": [
            "nonpathogenic_train.fasta: 10000024 sequences loaded.\n",
            "nonpathogenic_val.fasta: 1250005 sequences loaded.\n",
            "nonpathogenic_test_1.fasta: 625003 sequences loaded.\n",
            "nonpathogenic_test_2.fasta: 625003 sequences loaded.\n",
            "pathogenic_train.fasta: 10000151 sequences loaded.\n",
            "pathogenic_val.fasta: 1250020 sequences loaded.\n",
            "pathogenic_test_1.fasta: 625019 sequences loaded.\n",
            "pathogenic_test_2.fasta: 625019 sequences loaded.\n"
          ]
        }
      ]
    },
    {
      "cell_type": "code",
      "source": [
        "import psutil\n",
        "\n",
        "ram_info = psutil.virtual_memory()\n",
        "print(f\"Total RAM: {ram_info.total / (1024**3):.2f} GB\")\n",
        "print(f\"Available RAM: {ram_info.available / (1024**3):.2f} GB\")\n",
        "print(f\"Used RAM: {ram_info.used / (1024**3):.2f} GB\")"
      ],
      "metadata": {
        "id": "8gJh0sm_ZaSF"
      },
      "execution_count": null,
      "outputs": []
    },
    {
      "cell_type": "code",
      "source": [
        "!nvidia-smi"
      ],
      "metadata": {
        "id": "WjnUlHWgZh8V"
      },
      "execution_count": null,
      "outputs": []
    },
    {
      "cell_type": "code",
      "source": [
        "from sklearn.model_selection import cross_val_score\n",
        "from sklearn.ensemble import RandomForestClassifier\n",
        "from sklearn.linear_model import LogisticRegression\n",
        "import numpy as np\n",
        "import random\n",
        "from sklearn.feature_extraction.text import CountVectorizer\n",
        "\n",
        "def extract_kmers(sequences, k):\n",
        "    kmers_list = [' '.join([seq[i:i+k] for i in range(len(seq) - k + 1)]) for seq in sequences]\n",
        "    return kmers_list\n",
        "\n",
        "k=6\n",
        "subset_size = 5000\n",
        "\n",
        "print(f\"\\nEvaluating k = {k}\")\n",
        "\n",
        "kmers_nonpathogenic_train = extract_kmers(sequences_data['nonpathogenic_train'], k)\n",
        "kmers_pathogenic_train = extract_kmers(sequences_data['pathogenic_train'], k)\n",
        "\n",
        "kmers_train = kmers_nonpathogenic_train + kmers_pathogenic_train\n",
        "y_train = [0] * len(kmers_nonpathogenic_train) + [1] * len(kmers_pathogenic_train)\n",
        "\n",
        "subset_indices = random.sample(range(len(kmers_train)), subset_size)\n",
        "kmers_train_subset = [kmers_train[i] for i in subset_indices]\n",
        "y_train_subset = [y_train[i] for i in subset_indices]\n",
        "\n",
        "vectorizer = CountVectorizer()\n",
        "X_train_subset = vectorizer.fit_transform(kmers_train_subset)\n",
        "\n",
        "model = RandomForestClassifier(n_estimators=100, random_state=42)\n",
        "\n",
        "scores = cross_val_score(model, X_train_subset, y_train_subset, cv=3, scoring='f1')\n",
        "mean_score = np.mean(scores)\n",
        "print(f\"Mean F1 Score for k={k}: {mean_score}\")"
      ],
      "metadata": {
        "id": "DEqE8m8oN61K"
      },
      "execution_count": null,
      "outputs": []
    },
    {
      "cell_type": "code",
      "source": [
        "from sklearn.feature_extraction.text import CountVectorizer\n",
        "from sklearn.ensemble import RandomForestClassifier\n",
        "from sklearn.model_selection import cross_val_score\n",
        "import numpy as np\n",
        "\n",
        "def extract_kmers(sequences, k=6):\n",
        "    kmers_list = [' '.join([seq[i:i+k] for i in range(len(seq) - k + 1)]) for seq in sequences]\n",
        "    return kmers_list"
      ],
      "metadata": {
        "id": "ahy3zWEqtI2S"
      },
      "execution_count": null,
      "outputs": []
    },
    {
      "cell_type": "code",
      "source": [
        "kmers_nonpathogenic_train = extract_kmers(sequences_data['nonpathogenic_train.fasta'], k=6)\n",
        "kmers_pathogenic_train = extract_kmers(sequences_data['pathogenic_train.fasta'], k=6)\n",
        "\n",
        "kmers_train = kmers_nonpathogenic_train + kmers_pathogenic_train\n",
        "y_train = [0] * len(kmers_nonpathogenic_train) + [1] * len(kmers_pathogenic_train)"
      ],
      "metadata": {
        "id": "6YkQ3Sjft7BF"
      },
      "execution_count": null,
      "outputs": []
    },
    {
      "cell_type": "code",
      "source": [
        "kmers_nonpathogenic_val = extract_kmers(sequences_data['nonpathogenic_val.fasta'], k=6)\n",
        "kmers_pathogenic_val = extract_kmers(sequences_data['pathogenic_val.fasta'], k=6)\n",
        "\n",
        "kmers_val = kmers_nonpathogenic_val + kmers_pathogenic_val\n",
        "y_val = [0] * len(kmers_nonpathogenic_val) + [1] * len(kmers_pathogenic_val)\n",
        "\n",
        "print(\"Validation set prepared.\")\n",
        "print(f\"Validation set size: {len(kmers_val)} sequences\")"
      ],
      "metadata": {
        "colab": {
          "base_uri": "https://localhost:8080/"
        },
        "id": "ZoRZvBK2rjFX",
        "outputId": "6e283194-2855-4cc9-a5c9-b6f6c5b4f32f"
      },
      "execution_count": null,
      "outputs": [
        {
          "output_type": "stream",
          "name": "stdout",
          "text": [
            "Validation set prepared.\n",
            "Validation set size: 2500025 sequences\n"
          ]
        }
      ]
    },
    {
      "cell_type": "code",
      "source": [
        "kmers_nonpathogenic_test = extract_kmers(sequences_data['nonpathogenic_test_1.fasta'], k=6)\n",
        "kmers_pathogenic_test = extract_kmers(sequences_data['pathogenic_test_1.fasta'], k=6)\n",
        "\n",
        "kmers_test = kmers_nonpathogenic_test + kmers_pathogenic_test\n",
        "y_test = [0] * len(kmers_nonpathogenic_test) + [1] * len(kmers_pathogenic_test)\n",
        "\n",
        "print(\"Test set prepared.\")\n",
        "print(f\"Test set size: {len(kmers_test)} sequences\")"
      ],
      "metadata": {
        "colab": {
          "base_uri": "https://localhost:8080/"
        },
        "id": "sTNSuIxNrpQ8",
        "outputId": "62717530-24a9-43ab-bd0c-324ae66a7a4c"
      },
      "execution_count": null,
      "outputs": [
        {
          "output_type": "stream",
          "name": "stdout",
          "text": [
            "Test set prepared.\n",
            "Test set size: 1250022 sequences\n"
          ]
        }
      ]
    },
    {
      "cell_type": "code",
      "source": [
        "kmer_file_path = '/content/drive/MyDrive/patho-genome-data/kmers_data.pkl'\n",
        "\n",
        "with open(kmer_file_path, 'wb') as f:\n",
        "    pickle.dump((kmers_train, y_train), f)\n",
        "\n",
        "print(f\"k-mer data saved to {kmer_file_path}\")"
      ],
      "metadata": {
        "colab": {
          "base_uri": "https://localhost:8080/"
        },
        "id": "mbyEkKRiuAm7",
        "outputId": "eae4ed84-2493-4e54-b50d-3058e5776249"
      },
      "execution_count": null,
      "outputs": [
        {
          "output_type": "stream",
          "name": "stdout",
          "text": [
            "k-mer data saved to /content/drive/MyDrive/patho-genome-data/kmers_data.pkl\n"
          ]
        }
      ]
    },
    {
      "cell_type": "code",
      "source": [
        "val_data_path = '/content/drive/MyDrive/patho-genome-data/sampled_kmers_val_data.pkl'\n",
        "test_data_path = '/content/drive/MyDrive/patho-genome-data/sampled_kmers_test_data.pkl'\n",
        "\n",
        "with open(val_data_path, 'wb') as f:\n",
        "    pickle.dump((kmers_val, y_val), f)\n",
        "print(f\"Validation data saved to {val_data_path}\")\n",
        "\n",
        "with open(test_data_path, 'wb') as f:\n",
        "    pickle.dump((kmers_test, y_test), f)\n",
        "print(f\"Test data saved to {test_data_path}\")"
      ],
      "metadata": {
        "colab": {
          "base_uri": "https://localhost:8080/"
        },
        "id": "Jt8F5n4psEvC",
        "outputId": "d60d90a8-7688-4108-f31c-693dd38c17d2"
      },
      "execution_count": null,
      "outputs": [
        {
          "output_type": "stream",
          "name": "stdout",
          "text": [
            "Validation data saved to /content/drive/MyDrive/patho-genome-data/sampled_kmers_val_data.pkl\n",
            "Test data saved to /content/drive/MyDrive/patho-genome-data/sampled_kmers_test_data.pkl\n"
          ]
        }
      ]
    },
    {
      "cell_type": "code",
      "source": [
        "import pickle\n",
        "import random\n",
        "kmer_file_path = '/content/drive/MyDrive/patho-genome-data/kmers_data.pkl'\n",
        "\n",
        "with open(kmer_file_path, 'rb') as f:\n",
        "    kmers_train, y_train = pickle.load(f)\n",
        "\n",
        "print(f\"Loaded {len(kmers_train)} k-mer sequences.\")"
      ],
      "metadata": {
        "id": "Ked79_-A_hlC",
        "colab": {
          "base_uri": "https://localhost:8080/"
        },
        "outputId": "97bad7b9-9bdc-427c-f6f7-73683984ad17"
      },
      "execution_count": null,
      "outputs": [
        {
          "output_type": "stream",
          "name": "stdout",
          "text": [
            "Loaded 20000175 k-mer sequences.\n"
          ]
        }
      ]
    },
    {
      "cell_type": "code",
      "source": [
        "sample_fraction = 0.1\n",
        "nonpathogenic_kmers = [kmers_train[i] for i in range(len(y_train)) if y_train[i] == 0]\n",
        "pathogenic_kmers = [kmers_train[i] for i in range(len(y_train)) if y_train[i] == 1]\n",
        "\n",
        "sample_size_nonpathogenic = int(len(nonpathogenic_kmers) * sample_fraction)\n",
        "sample_size_pathogenic = int(len(pathogenic_kmers) * sample_fraction)\n",
        "\n",
        "sampled_nonpathogenic = random.sample(nonpathogenic_kmers, sample_size_nonpathogenic)\n",
        "sampled_pathogenic = random.sample(pathogenic_kmers, sample_size_pathogenic)\n",
        "\n",
        "sampled_kmers = sampled_nonpathogenic + sampled_pathogenic\n",
        "sampled_labels = [0] * sample_size_nonpathogenic + [1] * sample_size_pathogenic\n",
        "\n",
        "sampled_data = list(zip(sampled_kmers, sampled_labels))\n",
        "random.shuffle(sampled_data)\n",
        "sampled_kmers, sampled_labels = zip(*sampled_data)\n",
        "\n",
        "print(f\"Sampled dataset size: {len(sampled_kmers)} sequences.\")"
      ],
      "metadata": {
        "colab": {
          "base_uri": "https://localhost:8080/"
        },
        "id": "r_URDRQljFsU",
        "outputId": "28923319-f499-43c4-f0c5-7e057868fbc9"
      },
      "execution_count": null,
      "outputs": [
        {
          "output_type": "stream",
          "name": "stdout",
          "text": [
            "Sampled dataset size: 2000017 sequences.\n"
          ]
        }
      ]
    },
    {
      "cell_type": "code",
      "source": [
        "sampled_kmer_file_path = '/content/drive/MyDrive/patho-genome-data/sampled_kmers_data.pkl'\n",
        "\n",
        "with open(sampled_kmer_file_path, 'wb') as f:\n",
        "    pickle.dump((sampled_kmers, sampled_labels), f)\n",
        "\n",
        "print(f\"Sampled data saved to {sampled_kmer_file_path}\")"
      ],
      "metadata": {
        "colab": {
          "base_uri": "https://localhost:8080/"
        },
        "id": "C3n3cw5JkhS2",
        "outputId": "dfa41f58-8105-402e-a513-f0be7f544095"
      },
      "execution_count": null,
      "outputs": [
        {
          "output_type": "stream",
          "name": "stdout",
          "text": [
            "Sampled data saved to /content/drive/MyDrive/patho-genome-data/sampled_kmers_data.pkl\n"
          ]
        }
      ]
    },
    {
      "cell_type": "code",
      "source": [
        "import pickle\n",
        "train_data_path = '/content/drive/MyDrive/patho-genome-data/sampled_kmers_data.pkl'\n",
        "val_data_path = '/content/drive/MyDrive/patho-genome-data/sampled_kmers_val_data.pkl'\n",
        "test_data_path = '/content/drive/MyDrive/patho-genome-data/sampled_kmers_test_data.pkl'\n",
        "\n",
        "with open(train_data_path, 'rb') as f:\n",
        "    _, y_train = pickle.load(f)\n",
        "\n",
        "with open(val_data_path, 'rb') as f:\n",
        "    _, y_val = pickle.load(f)\n",
        "\n",
        "with open(test_data_path, 'rb') as f:\n",
        "    _, y_test = pickle.load(f)\n",
        "\n",
        "print(\"Data loaded successfully.\")"
      ],
      "metadata": {
        "colab": {
          "base_uri": "https://localhost:8080/"
        },
        "id": "kKZKj2QNvF6b",
        "outputId": "84f88d0b-feac-4cd5-d933-b9f16a7b4503"
      },
      "execution_count": null,
      "outputs": [
        {
          "output_type": "stream",
          "name": "stdout",
          "text": [
            "Data loaded successfully.\n"
          ]
        }
      ]
    },
    {
      "cell_type": "code",
      "source": [
        "import pickle\n",
        "train_labels_path = '/content/drive/MyDrive/patho-genome-data/y_train.pkl'\n",
        "val_labels_path = '/content/drive/MyDrive/patho-genome-data/y_val.pkl'\n",
        "test_labels_path = '/content/drive/MyDrive/patho-genome-data/y_test.pkl'"
      ],
      "metadata": {
        "id": "8FfiD1-Tf50N"
      },
      "execution_count": null,
      "outputs": []
    },
    {
      "cell_type": "code",
      "source": [
        "with open(train_labels_path, 'wb') as f:\n",
        "    pickle.dump(y_train, f)\n",
        "\n",
        "with open(val_labels_path, 'wb') as f:\n",
        "    pickle.dump(y_val, f)\n",
        "\n",
        "with open(test_labels_path, 'wb') as f:\n",
        "    pickle.dump(y_test, f)\n",
        "\n",
        "print(\"Labels saved\")"
      ],
      "metadata": {
        "colab": {
          "base_uri": "https://localhost:8080/"
        },
        "id": "CANG8vo3gJNm",
        "outputId": "768e7fdc-3bc0-435d-8b89-122e3edd4ffe"
      },
      "execution_count": null,
      "outputs": [
        {
          "output_type": "stream",
          "name": "stdout",
          "text": [
            "Labels saved\n"
          ]
        }
      ]
    },
    {
      "cell_type": "code",
      "source": [
        "with open(train_labels_path, 'rb') as f:\n",
        "    y_train = pickle.load(f)\n",
        "\n",
        "with open(val_labels_path, 'rb') as f:\n",
        "    y_val = pickle.load(f)\n",
        "\n",
        "with open(test_labels_path, 'rb') as f:\n",
        "    y_test = pickle.load(f)\n",
        "\n",
        "print(\"Labels loaded successfully.\")"
      ],
      "metadata": {
        "colab": {
          "base_uri": "https://localhost:8080/"
        },
        "id": "6T9tiOMHgHPR",
        "outputId": "79af9141-3ab0-4625-c415-a6dd1104172e"
      },
      "execution_count": null,
      "outputs": [
        {
          "output_type": "stream",
          "name": "stdout",
          "text": [
            "Labels loaded successfully.\n"
          ]
        }
      ]
    },
    {
      "cell_type": "code",
      "source": [
        "from sklearn.feature_extraction.text import CountVectorizer\n",
        "\n",
        "vectorizer = CountVectorizer()\n",
        "\n",
        "X_train = vectorizer.fit_transform(kmers_train)\n",
        "X_val = vectorizer.transform(kmers_val)\n",
        "X_test = vectorizer.transform(kmers_test)\n",
        "\n",
        "print(\"Vectorization complete.\")\n",
        "print(f\"Train feature matrix shape: {X_train.shape}\")\n",
        "print(f\"Validation feature matrix shape: {X_val.shape}\")\n",
        "print(f\"Test feature matrix shape: {X_test.shape}\")"
      ],
      "metadata": {
        "colab": {
          "base_uri": "https://localhost:8080/"
        },
        "id": "EhXYY6TAvoNY",
        "outputId": "7a4e6809-1f42-40ae-d26b-ffc1f62226c4"
      },
      "execution_count": null,
      "outputs": [
        {
          "output_type": "stream",
          "name": "stdout",
          "text": [
            "Vectorization complete.\n",
            "Train feature matrix shape: (2000017, 13973)\n",
            "Validation feature matrix shape: (2500025, 13973)\n",
            "Test feature matrix shape: (1250022, 13973)\n"
          ]
        }
      ]
    },
    {
      "cell_type": "code",
      "source": [
        "from scipy import sparse\n",
        "train_vectorized_path = '/content/drive/MyDrive/patho-genome-data/X_train_sparse.npz'\n",
        "val_vectorized_path = '/content/drive/MyDrive/patho-genome-data/X_val_sparse.npz'\n",
        "test_vectorized_path = '/content/drive/MyDrive/patho-genome-data/X_test_sparse.npz'"
      ],
      "metadata": {
        "id": "Zp6d6rbDxXtS"
      },
      "execution_count": null,
      "outputs": []
    },
    {
      "cell_type": "code",
      "source": [
        "'''sparse.save_npz(train_vectorized_path, X_train)\n",
        "sparse.save_npz(val_vectorized_path, X_val)\n",
        "sparse.save_npz(test_vectorized_path, X_test)\n",
        "\n",
        "print(\"Vectorized data saved\")"
      ],
      "metadata": {
        "id": "Tt9gna1o8UWB"
      },
      "execution_count": null,
      "outputs": []
    },
    {
      "cell_type": "code",
      "source": [
        "X_train = sparse.load_npz(train_vectorized_path)\n",
        "X_val = sparse.load_npz(val_vectorized_path)\n",
        "X_test = sparse.load_npz(test_vectorized_path)\n",
        "\n",
        "print(\"Vectorized data loaded successfully.\")"
      ],
      "metadata": {
        "colab": {
          "base_uri": "https://localhost:8080/"
        },
        "id": "B8TyqlZezQ7i",
        "outputId": "f3fcd480-6d4e-4479-d65f-15d0a0471037"
      },
      "execution_count": null,
      "outputs": [
        {
          "output_type": "stream",
          "name": "stdout",
          "text": [
            "Vectorized data loaded successfully.\n"
          ]
        }
      ]
    },
    {
      "cell_type": "code",
      "source": [
        "X_train.shape[1]\n"
      ],
      "metadata": {
        "colab": {
          "base_uri": "https://localhost:8080/"
        },
        "id": "pCOghJsOYqSD",
        "outputId": "af83814e-dfc5-4efc-a27b-7c65c307d661"
      },
      "execution_count": null,
      "outputs": [
        {
          "output_type": "execute_result",
          "data": {
            "text/plain": [
              "13973"
            ]
          },
          "metadata": {},
          "execution_count": 21
        }
      ]
    },
    {
      "cell_type": "code",
      "source": [
        "print(\"Number of samples in X_train:\", X_train.shape[0])\n",
        "print(\"Number of samples in y_train:\", len(y_train))"
      ],
      "metadata": {
        "colab": {
          "base_uri": "https://localhost:8080/"
        },
        "id": "EsI7wRFNhJrg",
        "outputId": "fd2a7d0e-7210-448f-e630-3476a85a97ea"
      },
      "execution_count": null,
      "outputs": [
        {
          "output_type": "stream",
          "name": "stdout",
          "text": [
            "Number of samples in X_train: 2000017\n",
            "Number of samples in y_train: 2000017\n"
          ]
        }
      ]
    },
    {
      "cell_type": "code",
      "source": [
        "from sklearn.ensemble import RandomForestClassifier\n",
        "from sklearn.metrics import classification_report, accuracy_score, f1_score\n",
        "\n",
        "model = RandomForestClassifier(n_estimators=10, class_weight=\"balanced\", random_state=42)\n",
        "\n",
        "model.fit(X_train_sample, y_train_sample)\n",
        "y_val_pred = model.predict(X_val)\n",
        "\n",
        "print(\"Validation Set Performance:\")\n",
        "print(\"Accuracy:\", accuracy_score(y_val, y_val_pred))\n",
        "print(\"F1 Score:\", f1_score(y_val, y_val_pred))\n",
        "print(classification_report(y_val, y_val_pred))"
      ],
      "metadata": {
        "id": "YFEd8KQG1mDC",
        "colab": {
          "base_uri": "https://localhost:8080/"
        },
        "outputId": "a94d0b87-1779-4cb8-ecdd-3954ef626a2f"
      },
      "execution_count": null,
      "outputs": [
        {
          "output_type": "stream",
          "name": "stdout",
          "text": [
            "Validation Set Performance:\n",
            "Accuracy: 0.6267973320266798\n",
            "F1 Score: 0.5746846429600347\n",
            "              precision    recall  f1-score   support\n",
            "\n",
            "           0       0.60      0.75      0.67   1250005\n",
            "           1       0.67      0.50      0.57   1250020\n",
            "\n",
            "    accuracy                           0.63   2500025\n",
            "   macro avg       0.63      0.63      0.62   2500025\n",
            "weighted avg       0.63      0.63      0.62   2500025\n",
            "\n"
          ]
        }
      ]
    },
    {
      "cell_type": "code",
      "source": [
        "from sklearn.utils import resample\n",
        "\n",
        "sample_size = 200000\n",
        "X_train_sample, y_train_sample = resample(X_train, y_train, n_samples=sample_size, stratify=y_train, random_state=42)"
      ],
      "metadata": {
        "id": "WFu1h-qWibzG"
      },
      "execution_count": null,
      "outputs": []
    },
    {
      "cell_type": "code",
      "source": [
        "import pickle\n",
        "train_sample_path = '/content/drive/MyDrive/patho-genome-data/X_train_sample.pkl'\n",
        "train_sample_labels_path = '/content/drive/MyDrive/patho-genome-data/y_train_sample.pkl'"
      ],
      "metadata": {
        "id": "1iru_IWIP3-e"
      },
      "execution_count": null,
      "outputs": []
    },
    {
      "cell_type": "code",
      "source": [
        "with open(train_sample_path, 'wb') as f:\n",
        "    pickle.dump(X_train_sample, f)\n",
        "\n",
        "with open(train_sample_labels_path, 'wb') as f:\n",
        "    pickle.dump(y_train_sample, f)"
      ],
      "metadata": {
        "id": "NbiYWv0CP-TG"
      },
      "execution_count": null,
      "outputs": []
    },
    {
      "cell_type": "code",
      "source": [
        "sparse.save_npz(train_sample_path, X_train_sample)\n",
        "\n",
        "print(\"Sampled data saved\")"
      ],
      "metadata": {
        "colab": {
          "base_uri": "https://localhost:8080/"
        },
        "id": "4Owi7mz8QvOD",
        "outputId": "8c20c45f-08ae-4a09-a1ed-aec1d38ea89d"
      },
      "execution_count": null,
      "outputs": [
        {
          "output_type": "stream",
          "name": "stdout",
          "text": [
            "Sampled data saved\n"
          ]
        }
      ]
    },
    {
      "cell_type": "code",
      "source": [
        "import xgboost as xgb\n",
        "\n",
        "dtrain = xgb.DMatrix(X_train_sample, label=y_train_sample)\n",
        "dval = xgb.DMatrix(X_val, label=y_val)\n",
        "dtest = xgb.DMatrix(X_test, label=y_test)\n",
        "params = {\n",
        "    'objective': 'binary:logistic',\n",
        "    'tree_method': 'gpu_hist',\n",
        "    'eval_metric': 'logloss',\n",
        "    #'max_depth': 10,\n",
        "    'random_state': 42\n",
        "}"
      ],
      "metadata": {
        "id": "MIkmSZ-ziYPR"
      },
      "execution_count": null,
      "outputs": []
    },
    {
      "cell_type": "code",
      "source": [
        "import xgboost as xgb\n",
        "from sklearn.metrics import accuracy_score, f1_score, classification_report\n",
        "\n",
        "xgb_model = xgb.train(params, dtrain, num_boost_round=50)\n",
        "\n",
        "y_val_pred_proba = xgb_model.predict(dval)\n",
        "y_val_pred = (y_val_pred_proba > 0.5).astype(int)\n",
        "\n",
        "y_test_pred_proba = xgb_model.predict(dtest)\n",
        "y_test_pred = (y_test_pred_proba > 0.5).astype(int)\n",
        "\n",
        "val_accuracy = accuracy_score(y_val, y_val_pred)\n",
        "val_f1_score = f1_score(y_val, y_val_pred)\n",
        "\n",
        "print(\"Validation Set Performance:\")\n",
        "print(\"Accuracy:\", val_accuracy)\n",
        "print(\"F1 Score:\", val_f1_score)\n",
        "print(\"Classification Report:\\n\", classification_report(y_val, y_val_pred))\n",
        "\n",
        "test_accuracy = accuracy_score(y_test, y_test_pred)\n",
        "test_f1_score = f1_score(y_test, y_test_pred)\n",
        "\n",
        "print(\"\\nTest Set Performance:\")\n",
        "print(\"Accuracy:\", test_accuracy)\n",
        "print(\"F1 Score:\", test_f1_score)\n",
        "print(\"Classification Report:\\n\", classification_report(y_test, y_test_pred))\n"
      ],
      "metadata": {
        "colab": {
          "base_uri": "https://localhost:8080/"
        },
        "id": "2iLququapYZi",
        "outputId": "df1c84e9-0417-4044-9fac-097537395b26"
      },
      "execution_count": null,
      "outputs": [
        {
          "output_type": "stream",
          "name": "stderr",
          "text": [
            "/usr/local/lib/python3.10/dist-packages/xgboost/core.py:158: UserWarning: [08:45:35] WARNING: /workspace/src/common/error_msg.cc:27: The tree method `gpu_hist` is deprecated since 2.0.0. To use GPU training, set the `device` parameter to CUDA instead.\n",
            "\n",
            "    E.g. tree_method = \"hist\", device = \"cuda\"\n",
            "\n",
            "  warnings.warn(smsg, UserWarning)\n",
            "/usr/local/lib/python3.10/dist-packages/xgboost/core.py:158: UserWarning: [08:45:37] WARNING: /workspace/src/common/error_msg.cc:27: The tree method `gpu_hist` is deprecated since 2.0.0. To use GPU training, set the `device` parameter to CUDA instead.\n",
            "\n",
            "    E.g. tree_method = \"hist\", device = \"cuda\"\n",
            "\n",
            "  warnings.warn(smsg, UserWarning)\n"
          ]
        },
        {
          "output_type": "stream",
          "name": "stdout",
          "text": [
            "Validation Set Performance:\n",
            "Accuracy: 0.6952082479175208\n",
            "F1 Score: 0.6925888854865994\n",
            "Classification Report:\n",
            "               precision    recall  f1-score   support\n",
            "\n",
            "           0       0.69      0.70      0.70   1250005\n",
            "           1       0.70      0.69      0.69   1250020\n",
            "\n",
            "    accuracy                           0.70   2500025\n",
            "   macro avg       0.70      0.70      0.70   2500025\n",
            "weighted avg       0.70      0.70      0.70   2500025\n",
            "\n",
            "\n",
            "Test Set Performance:\n",
            "Accuracy: 0.7368174320131966\n",
            "F1 Score: 0.7369945893398483\n",
            "Classification Report:\n",
            "               precision    recall  f1-score   support\n",
            "\n",
            "           0       0.74      0.74      0.74    625003\n",
            "           1       0.74      0.74      0.74    625019\n",
            "\n",
            "    accuracy                           0.74   1250022\n",
            "   macro avg       0.74      0.74      0.74   1250022\n",
            "weighted avg       0.74      0.74      0.74   1250022\n",
            "\n"
          ]
        }
      ]
    }
  ]
}